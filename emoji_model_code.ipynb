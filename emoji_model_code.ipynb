{
  "cells": [
    {
      "cell_type": "code",
      "execution_count": null,
      "metadata": {
        "id": "JmqcB4DIcLEL"
      },
      "outputs": [],
      "source": [
        "import numpy as np\n",
        "import cv2\n",
        "import os\n",
        "import matplotlib.pyplot as plt\n",
        "from sklearn.model_selection import train_test_split\n",
        "from keras.preprocessing.image import ImageDataGenerator\n",
        "from keras.models import Sequential\n",
        "from tensorflow.keras.optimizers import Adam\n",
        "from keras.layers import Dropout, Flatten, Dense\n",
        "from keras.layers.convolutional import Conv2D, MaxPooling2D\n",
        "from keras.utils.np_utils import to_categorical\n",
        "from PIL import Image\n",
        "from tensorflow.keras.layers import Dense, Flatten, Dropout, BatchNormalization \n",
        "from tensorflow.keras.callbacks import ModelCheckpoint, LearningRateScheduler, EarlyStopping\n",
        "import torch\n",
        "import torchvision.transforms as transforms\n",
        "import torch.nn as nn\n",
        "import torchvision\n",
        "from torch.autograd import Variable\n",
        "from torch.utils.data import DataLoader\n",
        "# resize gray black_background\n",
        "# thresh"
      ]
    },
    {
      "cell_type": "code",
      "execution_count": null,
      "metadata": {
        "colab": {
          "base_uri": "https://localhost:8080/"
        },
        "id": "0W26SIhncgZt",
        "outputId": "cc459790-6572-4b3b-ef39-41d51463cdaa"
      },
      "outputs": [
        {
          "output_type": "stream",
          "name": "stdout",
          "text": [
            "Drive already mounted at /content/drive; to attempt to forcibly remount, call drive.mount(\"/content/drive\", force_remount=True).\n"
          ]
        }
      ],
      "source": [
        "from google.colab import drive\n",
        "drive.mount('/content/drive')"
      ]
    },
    {
      "cell_type": "code",
      "execution_count": null,
      "metadata": {
        "id": "TlpJi1PSciTD"
      },
      "outputs": [],
      "source": [
        "\"\"\"\n",
        "Constants\n",
        "\"\"\"\n",
        "path = '/content/drive/MyDrive/mosaic/emoji/aug/'\n",
        "test_ratio = 0.1\n",
        "validation_ratio = 0.1\n",
        "img_dim = 28"
      ]
    },
    {
      "cell_type": "code",
      "execution_count": null,
      "metadata": {
        "colab": {
          "base_uri": "https://localhost:8080/"
        },
        "id": "3dUsJvs5f4KV",
        "outputId": "3228913e-8af8-4a29-9f0e-7f3b39544866"
      },
      "outputs": [
        {
          "output_type": "stream",
          "name": "stdout",
          "text": [
            "['1', '2', '3', '5', '6', '7', '4']\n"
          ]
        }
      ],
      "source": [
        "\"\"\"\n",
        "Variables\n",
        "\"\"\"\n",
        "images = []\n",
        "class_number = []\n",
        "\n",
        "dir_list = os.listdir(path)\n",
        "print(dir_list)\n",
        "\n",
        "number_of_classes = len(dir_list)"
      ]
    },
    {
      "cell_type": "code",
      "execution_count": null,
      "metadata": {
        "colab": {
          "base_uri": "https://localhost:8080/"
        },
        "id": "bjMzfPw5hIK9",
        "outputId": "e98abb1f-6f60-4ec5-afef-393375d09cf2"
      },
      "outputs": [
        {
          "output_type": "stream",
          "name": "stdout",
          "text": [
            "1\n",
            "2\n",
            "3\n",
            "5\n",
            "6\n",
            "7\n",
            "4\n",
            "2428\n",
            "(2428, 28, 28, 3)\n",
            "(2428,)\n"
          ]
        }
      ],
      "source": [
        "\"\"\"\n",
        "Import images and resize them.\n",
        "\"\"\"\n",
        "# for x, folder in enumerate(dir_list):\n",
        "#     image_list = os.listdir(path + \"/\" + str(folder))\n",
        "#     for _, img in enumerate(image_list):\n",
        "#         current_img = cv2.imread(path + \"/\" + str(folder) + \"/\" + img)\n",
        "#         current_img = cv2.resize(current_img, (img_dim, img_dim))\n",
        "#         images.append(current_img)\n",
        "#         class_number.append(x)\n",
        "#     print(folder)\n",
        "# print(len(images))\n",
        "\n",
        "# images = np.array(images)\n",
        "# class_number = np.array(class_number)\n",
        "\n",
        "# print(images.shape)\n",
        "# print(class_number.shape)\n",
        "\n",
        "for x, folder in enumerate(dir_list):\n",
        "    image_list = os.listdir(path + \"/\" + str(folder))\n",
        "    for _, img in enumerate(image_list):\n",
        "        current_img = cv2.imread(path + \"/\" + str(folder) + \"/\" + img)\n",
        "        try:\n",
        "            current_img = cv2.resize(current_img, (img_dim, img_dim))  #resize\n",
        "        except:\n",
        "            break\n",
        "        images.append(current_img)\n",
        "        class_number.append(x)\n",
        "    print(folder)\n",
        "print(len(images))\n",
        "\n",
        "images = np.array(images)\n",
        "class_number = np.array(class_number)\n",
        "\n",
        "print(images.shape)\n",
        "print(class_number.shape)"
      ]
    },
    {
      "cell_type": "code",
      "execution_count": null,
      "metadata": {
        "colab": {
          "base_uri": "https://localhost:8080/"
        },
        "id": "VIDGo7CFhcWT",
        "outputId": "61122ce8-1f71-48db-8ab9-03a80ecaf596"
      },
      "outputs": [
        {
          "output_type": "stream",
          "name": "stdout",
          "text": [
            "(1966, 28, 28, 3)\n",
            "(243, 28, 28, 3)\n",
            "[278, 269, 295, 298, 281, 274, 271]\n"
          ]
        }
      ],
      "source": [
        "\"\"\"\n",
        "Split Data for training, testing, and validation.\n",
        "\"\"\"\n",
        "X_train, X_test, y_train, y_test = train_test_split(images, class_number, test_size = test_ratio)\n",
        "X_train, X_validation, y_train, y_validation = train_test_split(X_train, y_train, test_size = validation_ratio)\n",
        "print(X_train.shape)\n",
        "print(X_test.shape)\n",
        "\n",
        "number_of_samples = []\n",
        "for idx in range(number_of_classes):\n",
        "    number_of_samples.append(len(np.where(y_train == idx)[0]))\n",
        "\n",
        "print(number_of_samples)\n",
        "\n",
        "# plt.figure(figsize = (10, 5))\n",
        "# plt.bar(range(number_of_classes), number_of_samples)\n",
        "# plt.title(\"Number of images for each Emoji\")\n",
        "# plt.xlabel(\"Emoji ID\")\n",
        "# plt.ylabel(\"Number of images\")\n",
        "# plt.show()\n"
      ]
    },
    {
      "cell_type": "code",
      "execution_count": null,
      "metadata": {
        "id": "-Y9ZNVKrT6As"
      },
      "outputs": [],
      "source": [
        "def pre_process(img):\n",
        "    img = cv2.cvtColor(img, cv2.COLOR_BGR2GRAY)    #gray\n",
        "    img=cv2.bitwise_not(img)    #black_background\n",
        "    # img = cv2.equalizeHist(img)\n",
        "    # ret, thresh2 = cv2.threshold(img, 120, 255, cv2.THRESH_BINARY_INV)\n",
        "    return img/255\n",
        "\n",
        "\"\"\" img = pre_process(X_train[20])\n",
        "img = cv2.resize(img, (300, 300))\n",
        "cv2.imshow(\"Preprocessed Image\", img)\n",
        "cv2.waitKey(0) \"\"\"\n",
        "\n",
        "X_train = np.array(list(map(pre_process, X_train)))\n",
        "X_test = np.array(list(map(pre_process, X_test)))\n",
        "X_validation = np.array(list(map(pre_process, X_validation)))\n",
        "\n",
        "X_train = X_train.reshape(X_train.shape[0], X_train.shape[1], X_train.shape[2], 1)\n",
        "X_test = X_test.reshape(X_test.shape[0], X_test.shape[1], X_test.shape[2], 1)\n",
        "X_validation = X_validation.reshape(X_validation.shape[0], X_validation.shape[1], X_validation.shape[2], 1)\n",
        "\n",
        "data_generator = ImageDataGenerator(width_shift_range = 0.1,\n",
        "                                    height_shift_range = 0.1,\n",
        "                                    zoom_range = 0.2,\n",
        "                                    shear_range = 0.1,\n",
        "                                    rotation_range = 10)\n",
        "\n",
        "data_generator.fit(X_train)\n",
        "\n",
        "y_train = to_categorical(y_train, number_of_classes)\n",
        "y_test = to_categorical(y_test, number_of_classes)\n",
        "y_validation = to_categorical(y_validation, number_of_classes)"
      ]
    },
    {
      "cell_type": "code",
      "execution_count": null,
      "metadata": {
        "id": "IArvoqg5VxCk",
        "colab": {
          "base_uri": "https://localhost:8080/"
        },
        "outputId": "0d7f78ba-f9c2-4e82-bae8-9c11a7adb1a7"
      },
      "outputs": [
        {
          "output_type": "stream",
          "name": "stdout",
          "text": [
            "Model: \"sequential_1\"\n",
            "_________________________________________________________________\n",
            " Layer (type)                Output Shape              Param #   \n",
            "=================================================================\n",
            " conv2d_4 (Conv2D)           (None, 24, 24, 60)        1560      \n",
            "                                                                 \n",
            " conv2d_5 (Conv2D)           (None, 20, 20, 60)        90060     \n",
            "                                                                 \n",
            " max_pooling2d_2 (MaxPooling  (None, 10, 10, 60)       0         \n",
            " 2D)                                                             \n",
            "                                                                 \n",
            " conv2d_6 (Conv2D)           (None, 8, 8, 30)          16230     \n",
            "                                                                 \n",
            " conv2d_7 (Conv2D)           (None, 6, 6, 30)          8130      \n",
            "                                                                 \n",
            " max_pooling2d_3 (MaxPooling  (None, 3, 3, 30)         0         \n",
            " 2D)                                                             \n",
            "                                                                 \n",
            " dropout_2 (Dropout)         (None, 3, 3, 30)          0         \n",
            "                                                                 \n",
            " flatten_1 (Flatten)         (None, 270)               0         \n",
            "                                                                 \n",
            " dense_2 (Dense)             (None, 500)               135500    \n",
            "                                                                 \n",
            " dropout_3 (Dropout)         (None, 500)               0         \n",
            "                                                                 \n",
            " dense_3 (Dense)             (None, 7)                 3507      \n",
            "                                                                 \n",
            "=================================================================\n",
            "Total params: 254,987\n",
            "Trainable params: 254,987\n",
            "Non-trainable params: 0\n",
            "_________________________________________________________________\n",
            "None\n"
          ]
        }
      ],
      "source": [
        "def create_model():\n",
        "    number_of_filters = 60  #80\n",
        "    size_of_filter1 = (5, 5)\n",
        "    size_of_filter2 = (3, 3)\n",
        "    size_of_pool = (2, 2)\n",
        "    number_of_nodes = 500\n",
        "\n",
        "    model = Sequential()\n",
        "    model.add(Conv2D(number_of_filters, size_of_filter1, input_shape = (img_dim, img_dim, 1), activation = \"relu\"))\n",
        "    model.add(Conv2D(number_of_filters, size_of_filter1, activation = \"relu\"))\n",
        "    model.add(MaxPooling2D(pool_size = size_of_pool))\n",
        "    model.add(Conv2D(number_of_filters // 2, size_of_filter2, activation = \"relu\"))\n",
        "    model.add(Conv2D(number_of_filters // 2, size_of_filter2, activation = \"relu\"))\n",
        "    model.add(MaxPooling2D(pool_size = size_of_pool))\n",
        "    model.add(Dropout(0.4))\n",
        "    \n",
        "    model.add(Flatten())\n",
        "    model.add(Dense(number_of_nodes, activation = \"relu\"))\n",
        "    model.add(Dropout(0.4))\n",
        "    model.add(Dense(number_of_classes, activation = \"softmax\"))\n",
        "    model.compile(Adam(learning_rate = 0.001), loss = \"categorical_crossentropy\", metrics = [\"accuracy\"])\n",
        "    return model\n",
        "\n",
        "model = create_model()\n",
        "print(model.summary())"
      ]
    },
    {
      "cell_type": "code",
      "source": [
        "# model = CNNModel().to(device)\n",
        "# model"
      ],
      "metadata": {
        "id": "CtAcupVGrpLF"
      },
      "execution_count": null,
      "outputs": []
    },
    {
      "cell_type": "code",
      "execution_count": null,
      "metadata": {
        "id": "k5Ogik7EWOl3",
        "colab": {
          "base_uri": "https://localhost:8080/",
          "height": 1000
        },
        "outputId": "4b0328cb-fbda-439d-cb79-4044967f447c"
      },
      "outputs": [
        {
          "output_type": "stream",
          "name": "stdout",
          "text": [
            "Epoch 1/50\n",
            "19/19 [==============================] - 1s 35ms/step - loss: 1.9398 - accuracy: 0.1382 - val_loss: 1.9313 - val_accuracy: 0.1735\n",
            "Epoch 2/50\n",
            "19/19 [==============================] - 0s 17ms/step - loss: 1.8987 - accuracy: 0.2829 - val_loss: 1.7845 - val_accuracy: 0.3288\n",
            "Epoch 3/50\n",
            "19/19 [==============================] - 0s 17ms/step - loss: 1.6011 - accuracy: 0.3618 - val_loss: 1.2009 - val_accuracy: 0.5708\n",
            "Epoch 4/50\n",
            "19/19 [==============================] - 0s 17ms/step - loss: 1.4091 - accuracy: 0.4836 - val_loss: 1.1961 - val_accuracy: 0.5251\n",
            "Epoch 5/50\n",
            "19/19 [==============================] - 0s 19ms/step - loss: 1.4090 - accuracy: 0.4507 - val_loss: 0.9941 - val_accuracy: 0.6575\n",
            "Epoch 6/50\n",
            "19/19 [==============================] - 0s 19ms/step - loss: 1.1178 - accuracy: 0.5592 - val_loss: 0.8264 - val_accuracy: 0.7580\n",
            "Epoch 7/50\n",
            "19/19 [==============================] - 1s 26ms/step - loss: 1.0336 - accuracy: 0.6192 - val_loss: 0.7763 - val_accuracy: 0.7717\n",
            "Epoch 8/50\n",
            "19/19 [==============================] - 0s 17ms/step - loss: 1.0529 - accuracy: 0.6382 - val_loss: 0.8777 - val_accuracy: 0.7032\n",
            "Epoch 9/50\n",
            "19/19 [==============================] - 0s 19ms/step - loss: 1.0233 - accuracy: 0.6184 - val_loss: 0.7172 - val_accuracy: 0.7808\n",
            "Epoch 10/50\n",
            "19/19 [==============================] - 0s 18ms/step - loss: 0.9337 - accuracy: 0.6678 - val_loss: 0.6070 - val_accuracy: 0.8265\n",
            "Epoch 11/50\n",
            "19/19 [==============================] - 0s 18ms/step - loss: 0.8816 - accuracy: 0.7105 - val_loss: 0.6579 - val_accuracy: 0.8037\n",
            "Epoch 12/50\n",
            "19/19 [==============================] - 0s 16ms/step - loss: 0.8517 - accuracy: 0.7533 - val_loss: 0.5676 - val_accuracy: 0.8174\n",
            "Epoch 13/50\n",
            "19/19 [==============================] - 0s 17ms/step - loss: 0.9355 - accuracy: 0.6546 - val_loss: 0.6858 - val_accuracy: 0.7854\n",
            "Epoch 14/50\n",
            "19/19 [==============================] - 0s 19ms/step - loss: 0.8658 - accuracy: 0.6987 - val_loss: 0.6024 - val_accuracy: 0.7991\n",
            "Epoch 15/50\n",
            "19/19 [==============================] - 0s 16ms/step - loss: 0.8058 - accuracy: 0.7318 - val_loss: 0.5261 - val_accuracy: 0.8265\n",
            "Epoch 16/50\n",
            "19/19 [==============================] - 0s 17ms/step - loss: 0.7368 - accuracy: 0.7533 - val_loss: 0.4905 - val_accuracy: 0.8311\n",
            "Epoch 17/50\n",
            "19/19 [==============================] - 0s 17ms/step - loss: 0.7386 - accuracy: 0.7697 - val_loss: 0.5141 - val_accuracy: 0.8311\n",
            "Epoch 18/50\n",
            "19/19 [==============================] - 0s 16ms/step - loss: 0.6084 - accuracy: 0.7961 - val_loss: 0.4613 - val_accuracy: 0.8721\n",
            "Epoch 19/50\n",
            "19/19 [==============================] - 0s 19ms/step - loss: 0.6122 - accuracy: 0.8059 - val_loss: 0.4469 - val_accuracy: 0.8813\n",
            "Epoch 20/50\n",
            "19/19 [==============================] - 0s 17ms/step - loss: 0.7396 - accuracy: 0.7171 - val_loss: 0.4440 - val_accuracy: 0.8493\n",
            "Epoch 21/50\n",
            "19/19 [==============================] - 0s 16ms/step - loss: 0.6365 - accuracy: 0.7697 - val_loss: 0.4693 - val_accuracy: 0.8630\n",
            "Epoch 22/50\n",
            "19/19 [==============================] - 0s 17ms/step - loss: 0.6739 - accuracy: 0.7862 - val_loss: 0.4770 - val_accuracy: 0.8493\n",
            "Epoch 23/50\n",
            "19/19 [==============================] - 0s 18ms/step - loss: 0.6136 - accuracy: 0.7928 - val_loss: 0.4171 - val_accuracy: 0.8767\n",
            "Epoch 24/50\n",
            "19/19 [==============================] - 0s 16ms/step - loss: 0.6856 - accuracy: 0.7682 - val_loss: 0.3768 - val_accuracy: 0.9041\n",
            "Epoch 25/50\n",
            "19/19 [==============================] - 0s 17ms/step - loss: 0.5806 - accuracy: 0.8158 - val_loss: 0.3771 - val_accuracy: 0.8904\n",
            "Epoch 26/50\n",
            "19/19 [==============================] - 0s 19ms/step - loss: 0.6761 - accuracy: 0.7928 - val_loss: 0.3154 - val_accuracy: 0.9224\n",
            "Epoch 27/50\n",
            "19/19 [==============================] - 0s 18ms/step - loss: 0.5789 - accuracy: 0.7993 - val_loss: 0.3566 - val_accuracy: 0.8995\n",
            "Epoch 28/50\n",
            "19/19 [==============================] - 0s 16ms/step - loss: 0.6011 - accuracy: 0.7993 - val_loss: 0.3307 - val_accuracy: 0.9224\n",
            "Epoch 29/50\n",
            "19/19 [==============================] - 0s 16ms/step - loss: 0.5850 - accuracy: 0.8322 - val_loss: 0.3378 - val_accuracy: 0.9132\n",
            "Epoch 30/50\n",
            "19/19 [==============================] - 0s 18ms/step - loss: 0.6071 - accuracy: 0.8026 - val_loss: 0.4099 - val_accuracy: 0.8767\n",
            "Epoch 31/50\n",
            "19/19 [==============================] - 0s 17ms/step - loss: 0.5728 - accuracy: 0.8224 - val_loss: 0.3338 - val_accuracy: 0.8995\n",
            "Epoch 32/50\n",
            "19/19 [==============================] - 0s 19ms/step - loss: 0.4893 - accuracy: 0.8344 - val_loss: 0.3525 - val_accuracy: 0.9041\n",
            "Epoch 33/50\n",
            "19/19 [==============================] - 0s 16ms/step - loss: 0.3671 - accuracy: 0.8816 - val_loss: 0.2875 - val_accuracy: 0.9269\n",
            "Epoch 34/50\n",
            "19/19 [==============================] - 0s 18ms/step - loss: 0.5106 - accuracy: 0.8224 - val_loss: 0.3691 - val_accuracy: 0.8858\n",
            "Epoch 35/50\n",
            "19/19 [==============================] - 0s 17ms/step - loss: 0.4146 - accuracy: 0.8618 - val_loss: 0.2593 - val_accuracy: 0.9224\n",
            "Epoch 36/50\n",
            "19/19 [==============================] - 0s 18ms/step - loss: 0.4836 - accuracy: 0.8421 - val_loss: 0.2676 - val_accuracy: 0.9452\n",
            "Epoch 37/50\n",
            "19/19 [==============================] - 0s 17ms/step - loss: 0.4068 - accuracy: 0.8651 - val_loss: 0.2783 - val_accuracy: 0.9269\n",
            "Epoch 38/50\n",
            "19/19 [==============================] - 0s 16ms/step - loss: 0.5759 - accuracy: 0.7961 - val_loss: 0.2711 - val_accuracy: 0.9361\n",
            "Epoch 39/50\n",
            "19/19 [==============================] - 0s 19ms/step - loss: 0.4036 - accuracy: 0.8717 - val_loss: 0.3028 - val_accuracy: 0.9224\n",
            "Epoch 40/50\n",
            "19/19 [==============================] - 0s 19ms/step - loss: 0.3562 - accuracy: 0.8684 - val_loss: 0.2294 - val_accuracy: 0.9315\n",
            "Epoch 41/50\n",
            "19/19 [==============================] - 0s 17ms/step - loss: 0.5439 - accuracy: 0.8179 - val_loss: 0.4140 - val_accuracy: 0.8676\n",
            "Epoch 42/50\n",
            "19/19 [==============================] - 0s 17ms/step - loss: 0.5594 - accuracy: 0.7928 - val_loss: 0.2740 - val_accuracy: 0.9406\n",
            "Epoch 43/50\n",
            "19/19 [==============================] - 0s 17ms/step - loss: 0.4386 - accuracy: 0.8576 - val_loss: 0.2254 - val_accuracy: 0.9361\n",
            "Epoch 44/50\n",
            "19/19 [==============================] - 0s 18ms/step - loss: 0.3779 - accuracy: 0.8849 - val_loss: 0.1892 - val_accuracy: 0.9406\n",
            "Epoch 45/50\n",
            "19/19 [==============================] - 0s 18ms/step - loss: 0.4329 - accuracy: 0.8355 - val_loss: 0.2240 - val_accuracy: 0.9315\n",
            "Epoch 46/50\n",
            "19/19 [==============================] - 0s 19ms/step - loss: 0.3604 - accuracy: 0.8914 - val_loss: 0.2145 - val_accuracy: 0.9361\n",
            "Epoch 47/50\n",
            "19/19 [==============================] - 0s 17ms/step - loss: 0.4181 - accuracy: 0.8684 - val_loss: 0.2776 - val_accuracy: 0.9178\n",
            "Epoch 48/50\n",
            "19/19 [==============================] - 0s 19ms/step - loss: 0.3983 - accuracy: 0.8421 - val_loss: 0.2103 - val_accuracy: 0.9452\n",
            "Epoch 49/50\n",
            "19/19 [==============================] - 0s 18ms/step - loss: 0.5248 - accuracy: 0.7993 - val_loss: 0.2447 - val_accuracy: 0.9315\n",
            "Epoch 50/50\n",
            "19/19 [==============================] - 0s 17ms/step - loss: 0.4070 - accuracy: 0.8454 - val_loss: 0.2111 - val_accuracy: 0.9269\n"
          ]
        },
        {
          "output_type": "display_data",
          "data": {
            "text/plain": [
              "<Figure size 432x288 with 1 Axes>"
            ],
            "image/png": "[encoded data removed]"
          },
          "metadata": {
            "needs_background": "light"
          }
        },
        {
          "output_type": "display_data",
          "data": {
            "text/plain": [
              "<Figure size 432x288 with 1 Axes>"
            ],
            "image/png": "[encoded data removed]"
          },
          "metadata": {
            "needs_background": "light"
          }
        },
        {
          "output_type": "stream",
          "name": "stdout",
          "text": [
            "Test score:  0.1507570445537567\n",
            "Test accuracy:  0.9465020298957825\n"
          ]
        }
      ],
      "source": [
        "checkpoint = ModelCheckpoint('/content/drive/My Drive/modified_weights-{epoch:03d}.h5',\n",
        "                                 monitor='val_acc',\n",
        "                                 verbose=0,\n",
        "                                 save_best_only=False,\n",
        "                                 mode='auto')\n",
        "\n",
        "history = model.fit(data_generator.flow(X_train, y_train,\n",
        "                                        batch_size = 16),\n",
        "                                        steps_per_epoch = 19,\n",
        "                                        epochs = 50,\n",
        "                                        validation_data = (X_validation, y_validation),\n",
        "                                        shuffle = 1)\n",
        "\n",
        "plt.figure(1)\n",
        "plt.plot(history.history[\"loss\"])\n",
        "plt.plot(history.history[\"val_loss\"])\n",
        "plt.legend([\"training\", \"validation\"])\n",
        "plt.title(\"Loss\")\n",
        "plt.xlabel(\"epoch\")\n",
        "\n",
        "plt.figure(2)\n",
        "plt.plot(history.history[\"accuracy\"])\n",
        "plt.plot(history.history[\"val_accuracy\"])\n",
        "plt.legend([\"training\", \"validation\"])\n",
        "plt.title(\"Accuracy\")\n",
        "plt.xlabel(\"epoch\")\n",
        "plt.show()\n",
        "\n",
        "score = model.evaluate(X_test, y_test, verbose = 0)\n",
        "print(\"Test score: \", score[0])\n",
        "print(\"Test accuracy: \", score[1])\n",
        "\n",
        "# pickle_out = open(\"model_trained.p\", \"wb\")\n",
        "# pickle.dump(model, pickle_out)\n",
        "# pickle_out.close()"
      ]
    },
    {
      "cell_type": "code",
      "execution_count": null,
      "metadata": {
        "id": "UtlRDqG8XQd5"
      },
      "outputs": [],
      "source": [
        "model.save('/content/drive/My Drive/only_emoji_1.h5')"
      ]
    },
    {
      "cell_type": "code",
      "source": [
        ""
      ],
      "metadata": {
        "id": "R4xjvMhQXOEd"
      },
      "execution_count": null,
      "outputs": []
    }
  ],
  "metadata": {
    "accelerator": "GPU",
    "colab": {
      "collapsed_sections": [],
      "name": "emoji_f_train.ipynb",
      "provenance": []
    },
    "kernelspec": {
      "display_name": "Python 3",
      "name": "python3"
    },
    "language_info": {
      "name": "python"
    }
  },
  "nbformat": 4,
  "nbformat_minor": 0
}